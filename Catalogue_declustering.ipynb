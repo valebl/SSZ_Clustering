{
  "nbformat": 4,
  "nbformat_minor": 0,
  "metadata": {
    "colab": {
      "name": "Catalogue_declustering.ipynb",
      "provenance": [],
      "collapsed_sections": [],
      "mount_file_id": "1ON4DjFeviY3MVdwDQ2qwXhe13aKKKWRh",
      "authorship_tag": "ABX9TyM1YxKsz/n5hFNO2uqh2W5O",
      "include_colab_link": true
    },
    "kernelspec": {
      "name": "python3",
      "display_name": "Python 3"
    },
    "language_info": {
      "name": "python"
    }
  },
  "cells": [
    {
      "cell_type": "markdown",
      "metadata": {
        "id": "view-in-github",
        "colab_type": "text"
      },
      "source": [
        "<a href=\"https://colab.research.google.com/github/valebl/SSZ_Clustering/blob/main/Catalogue_declustering.ipynb\" target=\"_parent\"><img src=\"https://colab.research.google.com/assets/colab-badge.svg\" alt=\"Open In Colab\"/></a>"
      ]
    },
    {
      "cell_type": "code",
      "metadata": {
        "id": "gSoVly9YzGJp"
      },
      "source": [
        "import os\n",
        "import pandas as pd\n",
        "import numpy as np\n",
        "import matplotlib.pyplot as plt\n",
        "from sklearn.cluster import KMeans\n",
        "from matplotlib.colors import ListedColormap\n",
        "from sklearn.cluster import DBSCAN\n",
        "%config InlineBackend.figure_format = 'svg'\n",
        "\n",
        "import seaborn as sns"
      ],
      "execution_count": null,
      "outputs": []
    },
    {
      "cell_type": "code",
      "metadata": {
        "id": "2qhZQNrIzKoj",
        "colab": {
          "base_uri": "https://localhost:8080/"
        },
        "outputId": "ca7fc310-b322-4f82-ac72-3167e0123f82"
      },
      "source": [
        "write_csv = False\n",
        "\n",
        "filepath = \"/content/drive/MyDrive/SeismicSources/CPTI15_v3.0_UTM32N.xlsx\"\n",
        "df = pd.read_excel(filepath,sheet_name=\"catalogue\",usecols=\"C,I,L,M,Q,N\",engine=\"openpyxl\")\n",
        "df = df[['X','Y','MwDef','Year','DepDef']]\n",
        "#df = df.dropna(axis=0,how='any')\n",
        "print(df.head(10))\n",
        "\n",
        "# Write the dataframe object into csv file\n",
        "if write_csv:\n",
        "    df.to_csv (\"CPTI15_v3.0.csv\", header=True)\n"
      ],
      "execution_count": null,
      "outputs": [
        {
          "output_type": "stream",
          "name": "stdout",
          "text": [
            "   LatDef  LonDef  MwDef  Year  DepDef\n",
            "0  43.464  11.882   4.86  1005     NaN\n",
            "1  41.488  13.831   5.10  1005     NaN\n",
            "2  41.131  14.778   4.63  1019     NaN\n",
            "3  41.131  14.778   4.63  1044     NaN\n",
            "4     NaN     NaN    NaN  1046     NaN\n",
            "5  45.539  10.220   5.10  1065     NaN\n",
            "6     NaN     NaN    NaN  1065     NaN\n",
            "7  41.129  16.869   4.86  1087     NaN\n",
            "8  41.899  12.477   5.10  1091     NaN\n",
            "9  41.131  14.778   4.63  1094     NaN\n"
          ]
        }
      ]
    }
  ]
}